{
 "cells": [
  {
   "cell_type": "code",
   "execution_count": 42,
   "id": "086637bc",
   "metadata": {},
   "outputs": [],
   "source": [
    "import pandas as pd\n",
    "import numpy as np\n",
    "from numpy import genfromtxt\n",
    "import random\n",
    "import seaborn as sns\n",
    "from wordfreq import word_frequency as wf"
   ]
  },
  {
   "cell_type": "markdown",
   "id": "f78b596a",
   "metadata": {},
   "source": [
    "# File Initialization"
   ]
  },
  {
   "cell_type": "code",
   "execution_count": 2,
   "id": "ac5604da",
   "metadata": {},
   "outputs": [],
   "source": [
    "Word_Bank_File_Name = 'words.csv'\n",
    "Historical_File_Name = 'historical.txt'"
   ]
  },
  {
   "cell_type": "code",
   "execution_count": 18,
   "id": "922c0267",
   "metadata": {},
   "outputs": [],
   "source": [
    "#12000 word file stored as words_12k\n",
    "words_12k=pd.read_csv('data/'+Word_Bank_File_Name)['words'].str.upper()\n",
    "\n",
    "\n",
    "\n",
    "#Historical Words stored as words_historicals\n",
    "historicals_txt=open('data/'+Historical_File_Name,'r').readlines()[0]\n",
    "words_historicals=pd.DataFrame(historicals_txt.split(\" \"),columns=['words'])['words'].str.upper()\n"
   ]
  },
  {
   "cell_type": "markdown",
   "id": "fa3beece",
   "metadata": {},
   "source": [
    "# Critical Definitions "
   ]
  },
  {
   "cell_type": "code",
   "execution_count": 20,
   "id": "1b8058da",
   "metadata": {},
   "outputs": [],
   "source": [
    "def unique(list1):\n",
    "  \n",
    "    \n",
    "    unique_list = []\n",
    "  \n",
    "    \n",
    "    for x in list1:\n",
    "        # check if exists in unique_list or not\n",
    "        if x not in unique_list:\n",
    "            unique_list.append(x)\n",
    "    return unique_list\n",
    "    "
   ]
  },
  {
   "cell_type": "code",
   "execution_count": 21,
   "id": "46e98d1c",
   "metadata": {},
   "outputs": [],
   "source": [
    "def getCharDistribution(word_list):\n",
    "    Chars_List={}\n",
    "    for word in words['words']:\n",
    "        chars=unique([*word])\n",
    "        for c in chars:\n",
    "            if c not in Chars_List:\n",
    "                Chars_List[c]=0\n",
    "            Chars_List[c]+=1\n",
    "    Sorted_Chars=dict(sorted(Chars_List.items(),key=lambda x:x[1],reverse=True))\n",
    "    \n",
    "    return Sorted_Chars\n",
    "    \n",
    "\n"
   ]
  },
  {
   "cell_type": "code",
   "execution_count": 40,
   "id": "a5f4b831",
   "metadata": {},
   "outputs": [],
   "source": [
    "def getMaxFreq(word_corpus):\n",
    "    \n",
    "    Old=wf(word_corpus[0],'en')\n",
    "    Word_Track=word_corpus[0]\n",
    "    \n",
    "    for word in word_corpus:\n",
    "        New=max(wf(word,'en'),Old)\n",
    "        if(New>Old):\n",
    "            Word_Track=word\n",
    "        \n",
    "        Old=New\n",
    "        \n",
    "    return Word_Track"
   ]
  },
  {
   "cell_type": "markdown",
   "id": "de293410",
   "metadata": {},
   "source": [
    "# Wordle Sim"
   ]
  },
  {
   "cell_type": "code",
   "execution_count": 22,
   "id": "e38df17d",
   "metadata": {},
   "outputs": [],
   "source": [
    "class WordleSim:\n",
    "    \n",
    "    ##Initializes the state 2D array, with [guess letter, state]\n",
    "    ## 0: Not in Word\n",
    "    ## 1: Yellow\n",
    "    ## 2: Green\n",
    "    ## \n",
    "    \n",
    "    def __init__(self,word):\n",
    "        self.source_word=word\n",
    "        self.num_tries=0\n",
    "        self.Game_State=[[]]\n",
    "        self.win=False\n",
    "        \n",
    "        for i in range(0,4):\n",
    "            self.Game_State.append([\"\",-1])\n",
    "        \n",
    "\n",
    "    def __str__(self, word):\n",
    "        self.source_word=word.upper()\n",
    "        self.num_tries=0\n",
    "        \n",
    "    def play(self,guess):\n",
    "        Char_List=[*guess.upper()]\n",
    "        \n",
    "        for i in range(0,len(Char_List)):\n",
    "            state_var=0\n",
    "            if Char_List[i]==[*self.source_word][i]:\n",
    "                state_var=2\n",
    "                \n",
    "            elif Char_List[i] in [*self.source_word]:\n",
    "                state_var=1\n",
    "            \n",
    "            self.Game_State[i]=[Char_List[i],state_var]\n",
    "            \n",
    "        self.num_tries+=1\n",
    "        \n",
    "        #################\n",
    "        \n",
    "        if self.source_word==guess:\n",
    "            self.win=True\n",
    "            \n",
    "            \n",
    "        return self.Game_State, self.num_tries, self.win\n",
    "        \n",
    "    def getTries(self):\n",
    "        return self.num_tries\n",
    "    "
   ]
  },
  {
   "cell_type": "markdown",
   "id": "42998516",
   "metadata": {},
   "source": [
    "# Cohesive Wordle Solver: Models stored as separate generate functions\n",
    "\n",
    "Useful for: Different Strategy at Different Layer, with same memory across them"
   ]
  },
  {
   "cell_type": "code",
   "execution_count": 23,
   "id": "729e8b03",
   "metadata": {},
   "outputs": [],
   "source": [
    "class WordleSolver:\n",
    "    \n",
    "    def __init__(self, file_loc=\"data/words.txt\"):\n",
    "        with open(file_loc,'r') as f:\n",
    "            word_list = f.read().upper().split('\\n')\n",
    "\n",
    "        word_list.sort()\n",
    "        self.word_list = word_list\n",
    "    \n",
    "    def measure_distribution(self):\n",
    "        dist_list = [{},{},{},{},{}]\n",
    "        for i,word in enumerate(self.word_list):\n",
    "            for j,letter in enumerate(word):\n",
    "                dict = dist_list[j]\n",
    "                if letter in dict:\n",
    "                    dict[letter] = dict[letter]+1\n",
    "                else:\n",
    "                    dict[letter] = 1\n",
    "\n",
    "        return dist_list\n",
    "\n",
    "    #V1\n",
    "    def generate_random(self):\n",
    "        return random.choice(self.word_list)\n",
    "    \n",
    "    #V2\n",
    "    def generate_bucket(self):\n",
    "\n",
    "        #Generates a word based on bucket ranker\n",
    "        guess_word = \"\"\n",
    "        max_score = 0\n",
    "        dist_list = self.measure_distribution()\n",
    "\n",
    "        for i,word in enumerate(self.word_list):\n",
    "            score = 0\n",
    "            for j,letter in enumerate(word):\n",
    "                score = score + dist_list[j][letter]\n",
    "            \n",
    "            if(score>max_score):\n",
    "                max_score = score\n",
    "                guess_word = word\n",
    "        \n",
    "        return guess_word\n",
    "\n",
    "    #V3\n",
    "    def generate_freq(self):\n",
    "        return getMaxFreq(self.word_list)\n",
    "        \n",
    "\n",
    "    def update(self, info=[]):\n",
    "        new_word_list = []\n",
    "        for i,word in enumerate(self.word_list):\n",
    "            f = 0\n",
    "            for j,value in enumerate(info):\n",
    "                letter = value[0]\n",
    "                letter_info = value[1]\n",
    "\n",
    "                if(letter in word):\n",
    "                    if(letter_info==0):\n",
    "                        f=1\n",
    "                        break\n",
    "                    elif(letter_info==1 and word[j]==letter):\n",
    "                        f=1\n",
    "                        break\n",
    "                    elif(letter_info==2 and word[j]!=letter):\n",
    "                        f=1\n",
    "                        break\n",
    "                else:\n",
    "                    if(letter_info>=1):\n",
    "                        f=1\n",
    "                        break\n",
    "            if(f==0):\n",
    "                new_word_list.append(word)\n",
    "        self.word_list = new_word_list\n",
    "    \n",
    "    def len_list(self):\n",
    "        return len(self.word_list)\n",
    "    \n",
    "    def return_list(self):\n",
    "        return self.word_list"
   ]
  },
  {
   "cell_type": "markdown",
   "id": "7668b09e",
   "metadata": {},
   "source": [
    "# Separate Classes for Each Solver: Useful for passing to Test cases"
   ]
  },
  {
   "cell_type": "code",
   "execution_count": 25,
   "id": "7d5c307f",
   "metadata": {},
   "outputs": [],
   "source": [
    "class RandomSolver(WordleSolver):\n",
    "    \n",
    "    def generate(self):\n",
    "        return random.choice(self.word_list)\n",
    "    "
   ]
  },
  {
   "cell_type": "code",
   "execution_count": 28,
   "id": "ff492b1b",
   "metadata": {},
   "outputs": [],
   "source": [
    "class BucketSolver(WordleSolver):\n",
    "    \n",
    "    def generate(self):\n",
    "            \n",
    "\n",
    "        #Generates a word based on bucket ranker\n",
    "        guess_word = \"\"\n",
    "        max_score = 0\n",
    "        dist_list = self.measure_distribution()\n",
    "\n",
    "        for i,word in enumerate(self.word_list):\n",
    "            score = 0\n",
    "            for j,letter in enumerate(word):\n",
    "                score = score + dist_list[j][letter]\n",
    "            \n",
    "            if(score>max_score):\n",
    "                max_score = score\n",
    "                guess_word = word\n",
    "        \n",
    "        return guess_word"
   ]
  },
  {
   "cell_type": "code",
   "execution_count": 30,
   "id": "84ae4392",
   "metadata": {},
   "outputs": [],
   "source": [
    "class FreqSolver(WordleSolver):\n",
    "    \n",
    "    def generate(self):\n",
    "        return getMaxFreq(self.word_list)"
   ]
  },
  {
   "cell_type": "markdown",
   "id": "634737dd",
   "metadata": {},
   "source": [
    "# Tests:\n",
    "1) Any Tries Test: Solves all words in passed corpus, returns tries and graphs\n",
    "\n",
    "2) 6 Tries Tests: Returns [[number, % of words solved],[missed words] in word corpus <6tries, "
   ]
  },
  {
   "cell_type": "code",
   "execution_count": 36,
   "id": "716f30f1",
   "metadata": {},
   "outputs": [],
   "source": [
    "def Any_Tries_Test(word_corpus,solver_name):\n",
    "\n",
    "    Avg_Tries=[]\n",
    "    Big_Tries=[]\n",
    "    \n",
    "\n",
    "    for w in word_corpus:\n",
    "        Sim=WordleSim(str(w))\n",
    "        Solver=solver_name()\n",
    "\n",
    "\n",
    "        while(Sim.win==False):\n",
    "            Sim_Output=Sim.play(Solver.generate())\n",
    "            Solver.update(Sim_Output[0])\n",
    "\n",
    "\n",
    "        \n",
    "        Avg_Tries.append(Sim.getTries())\n",
    "        if(Sim.getTries()>6):\n",
    "            Big_Tries.append(w)\n",
    "    \n",
    "    \n",
    "    \n",
    "    sns.distplot(Avg_Tries)\n",
    "    print('Avg Tries: '+ str(np.mean(Avg_Tries)))\n",
    "    \n",
    "    return Avg_Tries,Big_Tries\n"
   ]
  },
  {
   "cell_type": "code",
   "execution_count": 45,
   "id": "c1b5c635",
   "metadata": {},
   "outputs": [],
   "source": [
    "def Six_Tries_Test(word_corpus,solver_name):\n",
    "    \n",
    "    Avg_Tries=[]\n",
    "    Success_Counter=0\n",
    "\n",
    "    for w in word_corpus:\n",
    "\n",
    "        Sim=WordleSim(str(w))\n",
    "        Solver=solver_name()\n",
    "\n",
    "        while(Sim.num_tries<6):\n",
    "            Sim_Output=Sim.play(Solver.generate())\n",
    "            Solver.update(Sim_Output[0])\n",
    "\n",
    "            if(Sim.win==True):\n",
    "                Success_Counter+=1\n",
    "                break\n",
    "    \n",
    "    print('Number of Successes: '+str(Success_Counter))\n",
    "    print('Length of Corpus: '+str(len(word_corpus)))\n",
    "    print('Success %: '+str((Success_Counter/len(word_corpus))*100))\n",
    "    return Success_Counter, Success_Counter/len(word_corpus)"
   ]
  },
  {
   "cell_type": "markdown",
   "id": "afa04b94",
   "metadata": {},
   "source": [
    "# Any Tries Test Results Below  \n",
    "\n",
    "Data: Historicals"
   ]
  },
  {
   "cell_type": "code",
   "execution_count": 38,
   "id": "de1d96e0",
   "metadata": {},
   "outputs": [
    {
     "name": "stdout",
     "output_type": "stream",
     "text": [
      "Avg Tries: 4.795774647887324\n"
     ]
    },
    {
     "name": "stderr",
     "output_type": "stream",
     "text": [
      "/Library/Frameworks/Python.framework/Versions/3.10/lib/python3.10/site-packages/seaborn/distributions.py:2619: FutureWarning: `distplot` is a deprecated function and will be removed in a future version. Please adapt your code to use either `displot` (a figure-level function with similar flexibility) or `histplot` (an axes-level function for histograms).\n",
      "  warnings.warn(msg, FutureWarning)\n"
     ]
    },
    {
     "data": {
      "image/png": "[encoded data removed]",
      "text/plain": [
       "<Figure size 432x288 with 1 Axes>"
      ]
     },
     "metadata": {
      "needs_background": "light"
     },
     "output_type": "display_data"
    }
   ],
   "source": [
    "Bucket_Test_Results=Any_Tries_Test(words_historicals,BucketSolver)"
   ]
  },
  {
   "cell_type": "code",
   "execution_count": 43,
   "id": "917e4735",
   "metadata": {},
   "outputs": [
    {
     "name": "stdout",
     "output_type": "stream",
     "text": [
      "Avg Tries: 4.122065727699531\n"
     ]
    },
    {
     "name": "stderr",
     "output_type": "stream",
     "text": [
      "/Library/Frameworks/Python.framework/Versions/3.10/lib/python3.10/site-packages/seaborn/distributions.py:2619: FutureWarning: `distplot` is a deprecated function and will be removed in a future version. Please adapt your code to use either `displot` (a figure-level function with similar flexibility) or `histplot` (an axes-level function for histograms).\n",
      "  warnings.warn(msg, FutureWarning)\n"
     ]
    },
    {
     "data": {
      "image/png": "[encoded data removed]",
      "text/plain": [
       "<Figure size 432x288 with 1 Axes>"
      ]
     },
     "metadata": {
      "needs_background": "light"
     },
     "output_type": "display_data"
    }
   ],
   "source": [
    "Frequency_Test_Results=Any_Tries_Test(words_historicals,FreqSolver)"
   ]
  },
  {
   "cell_type": "markdown",
   "id": "78b81c65",
   "metadata": {},
   "source": [
    "# 6 Tries Test Results Below\n",
    "\n",
    "Data: Historicals"
   ]
  },
  {
   "cell_type": "code",
   "execution_count": 46,
   "id": "9624aed2",
   "metadata": {},
   "outputs": [
    {
     "name": "stdout",
     "output_type": "stream",
     "text": [
      "Number of Successes: 385\n",
      "Length of Corpus: 426\n",
      "Success %: 90.3755868544601\n"
     ]
    }
   ],
   "source": [
    "Bucket_6_Tries=Six_Tries_Test(words_historicals,BucketSolver)"
   ]
  },
  {
   "cell_type": "code",
   "execution_count": 47,
   "id": "bec161a2",
   "metadata": {},
   "outputs": [
    {
     "name": "stdout",
     "output_type": "stream",
     "text": [
      "Number of Successes: 414\n",
      "Length of Corpus: 426\n",
      "Success %: 97.1830985915493\n"
     ]
    }
   ],
   "source": [
    "Freq_6_Tries=Six_Tries_Test(words_historicals,FreqSolver)"
   ]
  },
  {
   "cell_type": "markdown",
   "id": "341d070b",
   "metadata": {},
   "source": [
    "# Words Not Guessed  \n",
    "\n",
    "Data: Historicals"
   ]
  },
  {
   "cell_type": "code",
   "execution_count": 49,
   "id": "dcb2bb84",
   "metadata": {},
   "outputs": [
    {
     "name": "stdout",
     "output_type": "stream",
     "text": [
      "Words missed in Bucket\n",
      "['BOOZY', 'BUGGY', 'COMMA', 'CORNY', 'CRAMP', 'CRASS', 'CRAZE', 'CRAZY', 'FAVOR', 'FINER', 'FIXER', 'FLOSS', 'FOYER', 'GLASS', 'GRIPE', 'HAIRY', 'HATCH', 'HINGE', 'HOMER', 'JAUNT', 'LIVER', 'LUSTY', 'NATAL', 'PITHY', 'POWER', 'PROVE', 'REPAY', 'SLUMP', 'STORE', 'STOVE', 'TEASE', 'TRITE', 'TROVE', 'UNFED', 'VOUCH', 'WACKY', 'WATCH', 'WEDGE', 'WROTE', 'YIELD', 'ZESTY']\n"
     ]
    }
   ],
   "source": [
    "print('Words missed in Bucket')\n",
    "print(Bucket_Test_Results[1])"
   ]
  },
  {
   "cell_type": "code",
   "execution_count": 51,
   "id": "6a582e32",
   "metadata": {},
   "outputs": [
    {
     "name": "stdout",
     "output_type": "stream",
     "text": [
      "Words missed in Freq\n",
      "['CRAZE', 'CREAK', 'FOYER', 'GAWKY', 'HATCH', 'HERON', 'SOWER', 'STOMP', 'STOVE', 'SWILL', 'TANGY', 'VOUCH']\n"
     ]
    }
   ],
   "source": [
    "print('Words missed in Freq')\n",
    "print(Frequency_Test_Results[1])"
   ]
  },
  {
   "cell_type": "code",
   "execution_count": null,
   "id": "09231ad7",
   "metadata": {},
   "outputs": [],
   "source": []
  }
 ],
 "metadata": {
  "kernelspec": {
   "display_name": "Python 3 (ipykernel)",
   "language": "python",
   "name": "python3"
  },
  "language_info": {
   "codemirror_mode": {
    "name": "ipython",
    "version": 3
   },
   "file_extension": ".py",
   "mimetype": "text/x-python",
   "name": "python",
   "nbconvert_exporter": "python",
   "pygments_lexer": "ipython3",
   "version": "3.10.6"
  }
 },
 "nbformat": 4,
 "nbformat_minor": 5
}
