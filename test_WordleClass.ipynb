{
 "cells": [
  {
   "cell_type": "code",
   "execution_count": 35,
   "metadata": {},
   "outputs": [],
   "source": [
    "import pandas as pd"
   ]
  },
  {
   "cell_type": "code",
   "execution_count": 27,
   "metadata": {},
   "outputs": [],
   "source": [
    "class WordleSim:\n",
    "   \n",
    "    \"\"\"\n",
    "    Initializes the state 2D array, with [guess letter, state]\n",
    "    0: Not in Word\n",
    "    1: Yellow\n",
    "    2: Green\n",
    "    \"\"\"\n",
    "   \n",
    "    def __init__(self,word):\n",
    "        self.source_word=word.upper()\n",
    "        self.num_tries=0\n",
    "        self.Game_State=[[]]\n",
    "        self.win=False\n",
    "       \n",
    "        for i in range(0,4):\n",
    "            self.Game_State.append([\"\",-1])\n",
    "       \n",
    "\n",
    "    def __str__(self):\n",
    "        s = \"Word : \" + self.source_word+\"\\n\"\n",
    "        s+= \"Number of tries : \" + str(self.num_tries)\n",
    "        return s\n",
    "       \n",
    "    def play(self,guess):\n",
    "        guess = guess.upper()\n",
    "       \n",
    "        for i in range(0,len(guess)):\n",
    "            state_var=0\n",
    "            if guess[i]==self.source_word[i]:\n",
    "                state_var=2\n",
    "               \n",
    "            elif guess[i] in self.source_word:\n",
    "                state_var=1\n",
    "           \n",
    "            self.Game_State[i]=[guess[i],state_var]\n",
    "           \n",
    "        self.num_tries+=1\n",
    "       \n",
    "        #################\n",
    "       \n",
    "        win_Counter=0\n",
    "        for i in range(0,5):\n",
    "            win_Counter+=self.Game_State[i][1]\n",
    "       \n",
    "        if win_Counter==10:\n",
    "            self.win=True\n",
    "           \n",
    "           \n",
    "        return self.Game_State, self.num_tries, self.win\n",
    "       \n",
    "    def getTries(self):\n",
    "        return self.num_tries\n",
    "\n",
    "    def reset(self,word):\n",
    "        self.source_word=word.upper()\n",
    "        self.num_tries=0\n",
    "        self.Game_State=[[]]\n",
    "        self.win=False\n",
    "       \n",
    "        for i in range(0,4):\n",
    "            self.Game_State.append([\"\",-1])"
   ]
  },
  {
   "cell_type": "code",
   "execution_count": 38,
   "metadata": {},
   "outputs": [],
   "source": [
    "word = \"SEVER\"\n",
    "sim = WordleSim(word=word)"
   ]
  },
  {
   "cell_type": "code",
   "execution_count": 39,
   "metadata": {},
   "outputs": [
    {
     "name": "stdout",
     "output_type": "stream",
     "text": [
      "([['C', 0], ['A', 0], ['R', 1], ['E', 2], ['S', 1]], 1, False)\n",
      "Word : SEVER\n",
      "Number of tries : 1\n"
     ]
    }
   ],
   "source": [
    "print(sim.play(guess=\"cares\"))\n",
    "print(sim)"
   ]
  },
  {
   "cell_type": "code",
   "execution_count": 40,
   "metadata": {},
   "outputs": [
    {
     "name": "stdout",
     "output_type": "stream",
     "text": [
      "Word : SUPER\n",
      "Number of tries : 0\n"
     ]
    }
   ],
   "source": [
    "sim.reset(word=\"super\")\n",
    "print(sim)"
   ]
  },
  {
   "cell_type": "code",
   "execution_count": 41,
   "metadata": {},
   "outputs": [],
   "source": [
    "df = pd.DataFrame()"
   ]
  },
  {
   "cell_type": "code",
   "execution_count": 42,
   "metadata": {},
   "outputs": [
    {
     "name": "stdout",
     "output_type": "stream",
     "text": [
      "Empty DataFrame\n",
      "Columns: []\n",
      "Index: []\n"
     ]
    }
   ],
   "source": [
    "print(df)"
   ]
  },
  {
   "cell_type": "code",
   "execution_count": null,
   "metadata": {},
   "outputs": [],
   "source": []
  }
 ],
 "metadata": {
  "kernelspec": {
   "display_name": "Python 3.8.10 ('venv_default': venv)",
   "language": "python",
   "name": "python3"
  },
  "language_info": {
   "codemirror_mode": {
    "name": "ipython",
    "version": 3
   },
   "file_extension": ".py",
   "mimetype": "text/x-python",
   "name": "python",
   "nbconvert_exporter": "python",
   "pygments_lexer": "ipython3",
   "version": "3.8.10"
  },
  "orig_nbformat": 4,
  "vscode": {
   "interpreter": {
    "hash": "20fbdcf79b44412b1d7ca9b15141453f872a60e8d0bbba8e9666a95c99f59f63"
   }
  }
 },
 "nbformat": 4,
 "nbformat_minor": 2
}
