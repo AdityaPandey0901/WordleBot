{
 "cells": [
  {
   "cell_type": "code",
   "execution_count": 6,
   "id": "6c701480",
   "metadata": {},
   "outputs": [],
   "source": [
    "import pandas as pd\n",
    "import numpy as np\n",
    "from numpy import genfromtxt\n",
    "import random"
   ]
  },
  {
   "cell_type": "code",
   "execution_count": 7,
   "id": "4f9812f0",
   "metadata": {},
   "outputs": [],
   "source": [
    "Word_Bank_File_Name = 'words.csv'"
   ]
  },
  {
   "cell_type": "code",
   "execution_count": 8,
   "id": "a179933d",
   "metadata": {},
   "outputs": [],
   "source": [
    "words=pd.read_csv(Word_Bank_File_Name)['words'].upper()"
   ]
  },
  {
   "cell_type": "code",
   "execution_count": 9,
   "id": "ae0db35a",
   "metadata": {},
   "outputs": [],
   "source": [
    "def unique(list1):\n",
    "  \n",
    "    \n",
    "    unique_list = []\n",
    "  \n",
    "    \n",
    "    for x in list1:\n",
    "        # check if exists in unique_list or not\n",
    "        if x not in unique_list:\n",
    "            unique_list.append(x)\n",
    "    return unique_list\n",
    "    "
   ]
  },
  {
   "cell_type": "code",
   "execution_count": 10,
   "id": "ffc7e6d5",
   "metadata": {},
   "outputs": [],
   "source": [
    "def getCharDistribution(word_list):\n",
    "    Chars_List={}\n",
    "    for word in words['words']:\n",
    "        chars=unique([*word])\n",
    "        for c in chars:\n",
    "            if c not in Chars_List:\n",
    "                Chars_List[c]=0\n",
    "            Chars_List[c]+=1\n",
    "    Sorted_Chars=dict(sorted(Chars_List.items(),key=lambda x:x[1],reverse=True))\n",
    "    \n",
    "    return Sorted_Chars\n",
    "    \n",
    "\n",
    "\n",
    "\n",
    "\n",
    "    "
   ]
  },
  {
   "cell_type": "code",
   "execution_count": 11,
   "id": "8a7d444d",
   "metadata": {},
   "outputs": [
    {
     "name": "stdout",
     "output_type": "stream",
     "text": [
      "s: 5936\n",
      "e: 5705\n",
      "a: 5332\n",
      "o: 3912\n",
      "r: 3911\n",
      "i: 3589\n",
      "l: 3114\n",
      "t: 3033\n",
      "n: 2789\n",
      "u: 2437\n",
      "d: 2298\n",
      "y: 2031\n",
      "c: 1920\n",
      "p: 1885\n",
      "m: 1868\n",
      "h: 1708\n",
      "g: 1543\n",
      "b: 1519\n",
      "k: 1445\n",
      "w: 1028\n",
      "f: 990\n",
      "v: 674\n",
      "z: 391\n",
      "j: 289\n",
      "x: 287\n",
      "q: 112\n"
     ]
    }
   ],
   "source": [
    "Sorted=getCharDistribution(words['words'])\n",
    "for c in Sorted:\n",
    "    print(str(c)+': '+str(Sorted[c]))"
   ]
  },
  {
   "cell_type": "code",
   "execution_count": 78,
   "id": "2398b76c",
   "metadata": {},
   "outputs": [],
   "source": [
    "class WordleSim:\n",
    "    \n",
    "    ##Initializes the state 2D array, with [guess letter, state]\n",
    "    ## 0: Not in Word\n",
    "    ## 1: Yellow\n",
    "    ## 2: Green\n",
    "    ## \n",
    "    \n",
    "    def __init__(self,word):\n",
    "        self.source_word=word\n",
    "        self.num_tries=0\n",
    "        self.Game_State=[[]]\n",
    "        self.win=False\n",
    "        \n",
    "        for i in range(0,4):\n",
    "            self.Game_State.append([\"\",-1])\n",
    "        \n",
    "\n",
    "    def __str__(self, word):\n",
    "        self.source_word=word.upper()\n",
    "        self.num_tries=0\n",
    "        \n",
    "    def play(self,guess):\n",
    "        Char_List=[*guess.upper()]\n",
    "        \n",
    "        for i in range(0,len(Char_List)):\n",
    "            state_var=0\n",
    "            if Char_List[i]==[*self.source_word][i]:\n",
    "                state_var=2\n",
    "                \n",
    "            elif Char_List[i] in [*self.source_word]:\n",
    "                state_var=1\n",
    "            \n",
    "            self.Game_State[i]=[Char_List[i],state_var]\n",
    "            \n",
    "        self.num_tries+=1\n",
    "        \n",
    "        #################\n",
    "        \n",
    "        if self.source_word==guess:\n",
    "            self.win=True\n",
    "            \n",
    "            \n",
    "        return self.Game_State, self.num_tries, self.win\n",
    "        \n",
    "    def getTries(self):\n",
    "        return self.num_tries\n",
    "    "
   ]
  },
  {
   "cell_type": "code",
   "execution_count": 31,
   "id": "0ce35350",
   "metadata": {},
   "outputs": [
    {
     "name": "stdout",
     "output_type": "stream",
     "text": [
      "chair\n",
      "([['c', 0], ['h', 0], ['a', 0], ['i', 0], ['r', 0]], 1, False)\n",
      "bowse\n",
      "([['b', 0], ['o', 2], ['w', 1], ['s', 0], ['e', 1]], 2, False)\n",
      "women\n",
      "([['w', 2], ['o', 2], ['m', 0], ['e', 2], ['n', 2]], 3, False)\n",
      "evoke\n",
      "([['e', 1], ['v', 1], ['o', 1], ['k', 0], ['e', 1]], 4, False)\n",
      "woven\n",
      "([['w', 2], ['o', 2], ['v', 2], ['e', 2], ['n', 2]], 5, True)\n"
     ]
    }
   ],
   "source": [
    "Sim1=WordleSim(\"woven\")\n",
    "for i in range(0,5):\n",
    "    print(Sim1.play(str(input())))"
   ]
  },
  {
   "cell_type": "code",
   "execution_count": 39,
   "id": "f8c12e7f",
   "metadata": {},
   "outputs": [],
   "source": [
    "import random\n",
    "class WordleSolver:\n",
    "\n",
    "\n",
    "    def __init__(self, file_loc=\"words.txt\"):\n",
    "        with open(file_loc,'r') as f:\n",
    "            word_list = f.read().upper().split('\\n')\n",
    "\n",
    "        word_list.sort()\n",
    "        self.word_list = word_list\n",
    "    \n",
    "\n",
    "    def generate(self):\n",
    "        return random.choice(self.word_list)\n",
    "\n",
    "\n",
    "    def update(self, info=[]):\n",
    "        new_word_list = []\n",
    "        for i,word in enumerate(self.word_list):\n",
    "            f = 0\n",
    "            for j,value in enumerate(info):\n",
    "                letter = value[0]\n",
    "                letter_info = value[1]\n",
    "\n",
    "                if(letter in word):\n",
    "                    if(letter_info==0):\n",
    "                        f=1\n",
    "                        break\n",
    "                    elif(letter_info==1 and word[j]==letter):\n",
    "                        f=1\n",
    "                        break\n",
    "                    elif(letter_info==2 and word[j]!=letter):\n",
    "                        f=1\n",
    "                        break\n",
    "                else:\n",
    "                    if(letter_info>=1):\n",
    "                        f=1\n",
    "                        break\n",
    "            if(f==0):\n",
    "                new_word_list.append(word)\n",
    "        self.word_list = new_word_list\n",
    "    \n",
    "    def len_list(self):\n",
    "        return len(self.word_list)\n",
    "    \n",
    "    def return_list(self):\n",
    "        return self.word_list"
   ]
  },
  {
   "cell_type": "code",
   "execution_count": 85,
   "id": "b14a6e50",
   "metadata": {},
   "outputs": [],
   "source": [
    "#12000\n",
    "Word_Bank_File_Name = 'words.csv'\n",
    "words=pd.read_csv(Word_Bank_File_Name).dropna()['words'].str.upper()\n",
    "\n",
    "#Historical Words\n",
    "Historical_File_Name = 'historical.txt'\n",
    "historicals_txt=open(Historical_File_Name,'r').readlines()[0]\n",
    "historicals=pd.DataFrame(historicals_txt.split(\" \"),columns=['words'])['words']\n",
    "    \n",
    "\n",
    "#Historical_Test, any number of tries allowed.\n",
    "def Any_Tries_Test(word_corpus):\n",
    "\n",
    "    Avg_Tries=[]\n",
    "    Big_Tries=[]\n",
    "\n",
    "    for w in word_corpus:\n",
    "        Hist_Sim=WordleSim(str(w))\n",
    "        Hist_Solver=WordleSolver()\n",
    "\n",
    "\n",
    "        while(Hist_Sim.win==False):\n",
    "            Sim_Output=Hist_Sim.play(Hist_Solver.generate())\n",
    "            Hist_Solver.update(Sim_Output[0])\n",
    "\n",
    "\n",
    "        \n",
    "        Avg_Tries.append(Hist_Sim.getTries())\n",
    "        if(Hist_Sim.getTries()>10):\n",
    "            Big_Tries.append(w)\n",
    "    \n",
    "    return Avg_Tries,Big_Tries\n",
    "    "
   ]
  },
  {
   "cell_type": "code",
   "execution_count": 86,
   "id": "2465a892",
   "metadata": {},
   "outputs": [
    {
     "name": "stdout",
     "output_type": "stream",
     "text": [
      "Historicals Avg Tries: 4.873239436619718\n"
     ]
    },
    {
     "name": "stderr",
     "output_type": "stream",
     "text": [
      "/Library/Frameworks/Python.framework/Versions/3.10/lib/python3.10/site-packages/seaborn/distributions.py:2619: FutureWarning: `distplot` is a deprecated function and will be removed in a future version. Please adapt your code to use either `displot` (a figure-level function with similar flexibility) or `histplot` (an axes-level function for histograms).\n",
      "  warnings.warn(msg, FutureWarning)\n"
     ]
    },
    {
     "data": {
      "image/png": "[encoded data removed]",
      "text/plain": [
       "<Figure size 432x288 with 1 Axes>"
      ]
     },
     "metadata": {
      "needs_background": "light"
     },
     "output_type": "display_data"
    }
   ],
   "source": [
    "import seaborn as sns\n",
    "Hist_Avg_Tries=Any_Tries_Test(historicals)[0]\n",
    "sns.distplot(Hist_Avg_Tries)\n",
    "print('Historicals Avg Tries: ' + str(np.mean(Hist_Avg_Tries)))"
   ]
  },
  {
   "cell_type": "code",
   "execution_count": 87,
   "id": "930b782a",
   "metadata": {},
   "outputs": [
    {
     "name": "stdout",
     "output_type": "stream",
     "text": [
      "12,000 Avg Tries: 5.174734083551719\n",
      "Words that took>10 tries['LOWES', 'WARKS', 'YACKS', 'FANGS', 'FAXED', 'PACKS', 'SANDS', 'ROWED', 'HARES', 'BONKS', 'MARES', 'CILLS', 'KALES', 'JOLES', 'MEALS', 'HOXED', 'KILLS', 'DITES', 'MOVES', 'GILLS', 'EALES', 'PILLS', 'PIPED', 'COWED', 'RAJES', 'NOOPS', 'SINKS', 'COLLS', 'PINTS', 'OINKS', 'TAWAS', 'WAILS', 'TESTS', 'GALLS', 'LAZES', 'FIGHT', 'RESTS', 'BENDS', 'MANES', 'FAZES', 'FARES', 'JESTS', 'HEATS', 'YORES', 'LATED', 'HORSE', 'BOCKS', 'DEXES', 'FINKS', 'SONGS', 'CANGS', 'GAMPS', 'BENTS', 'GINGS', 'WESTS', 'OVERS', 'BIGHT', 'SOWLS', 'MAKER', 'HANGS', 'YILLS', 'RINES', 'CONKS', 'LINES', 'ZOUKS', 'BODES', 'YOUKS', 'KELTS', 'SITES', 'TALER', 'BAYES', 'CINES', 'KESTS', 'BIKED', 'SADES', 'FEARS', 'JOCKS', 'WAKES', 'HONES', 'LAUDS', 'MAZED', 'LANES', 'SACKS', 'MODES', 'GUMPS', 'FEALS', 'MALLS', 'GALES', 'GANGS', 'BESTS', 'ZILLS', 'RASES', 'ROSES', 'RAKED', 'HIGHT', 'LAVED', 'CORES', 'FALLS', 'DARES', 'KOKER', 'TARES', 'KANGS', 'CHIPS', 'TENDS']\n"
     ]
    },
    {
     "name": "stderr",
     "output_type": "stream",
     "text": [
      "/Library/Frameworks/Python.framework/Versions/3.10/lib/python3.10/site-packages/seaborn/distributions.py:2619: FutureWarning: `distplot` is a deprecated function and will be removed in a future version. Please adapt your code to use either `displot` (a figure-level function with similar flexibility) or `histplot` (an axes-level function for histograms).\n",
      "  warnings.warn(msg, FutureWarning)\n"
     ]
    },
    {
     "data": {
      "image/png": "[encoded data removed]",
      "text/plain": [
       "<Figure size 432x288 with 1 Axes>"
      ]
     },
     "metadata": {
      "needs_background": "light"
     },
     "output_type": "display_data"
    }
   ],
   "source": [
    "Full_Avg_Tries=Any_Tries_Test(words)\n",
    "sns.distplot(Full_Avg_Tries[0])\n",
    "print('12,000 Avg Tries: ' + str(np.mean(Full_Avg_Tries[0])))\n",
    "print('Words that took >10 tries'+str(Full_Avg_Tries[1]))"
   ]
  },
  {
   "cell_type": "code",
   "execution_count": 93,
   "id": "450f1d07",
   "metadata": {},
   "outputs": [],
   "source": [
    "#Historical_Test, 6 tries allowed\n",
    "\n",
    "def Six_Tries_Test(word_corpus):\n",
    "    \n",
    "    Avg_Tries=[]\n",
    "    Success_Counter=0\n",
    "\n",
    "    for w in word_corpus:\n",
    "        if(w)\n",
    "        Hist_Sim=WordleSim(str(w))\n",
    "        Hist_Solver=WordleSolver()\n",
    "\n",
    "        while(Hist_Sim.num_tries<6):\n",
    "            Sim_Output=Hist_Sim.play(Hist_Solver.generate())\n",
    "            Hist_Solver.update(Sim_Output[0])\n",
    "\n",
    "            if(Hist_Sim.win==True):\n",
    "                Success_Counter+=1\n",
    "                break\n",
    "                \n",
    "    return Success_Counter, Success_Counter/len(word_corpus)"
   ]
  },
  {
   "cell_type": "code",
   "execution_count": 94,
   "id": "177c2466",
   "metadata": {},
   "outputs": [
    {
     "name": "stdout",
     "output_type": "stream",
     "text": [
      "(369, 0.8661971830985915)\n"
     ]
    }
   ],
   "source": [
    "print(Six_Tries_Test(historicals))"
   ]
  },
  {
   "cell_type": "code",
   "execution_count": 96,
   "id": "b0dc9ddf",
   "metadata": {},
   "outputs": [
    {
     "name": "stdout",
     "output_type": "stream",
     "text": [
      "(10755, 0.828965623554802)\n"
     ]
    }
   ],
   "source": [
    "print(Six_Tries_Test(words))"
   ]
  },
  {
   "cell_type": "code",
   "execution_count": 24,
   "id": "265c88d9",
   "metadata": {},
   "outputs": [],
   "source": [
    "def Get_New_Corpus(word_corpus,state):\n",
    "    \n",
    "    New_Corpus=[]\n",
    "    Rejected_Words=[]\n",
    "    Zero_Letters=[]\n",
    "    \n",
    "    for i in range(0,5):\n",
    "        if state[i][1]<=0:\n",
    "            Zero_Letters.append(state[i][0])\n",
    "    \n",
    "    for word in word_corpus:\n",
    "        \n",
    "        for letter in Zero_Letters:\n",
    "            if letter in word:\n",
    "                Rejected_Words.append(letter)\n",
    "            else:\n",
    "                New_Corpus.append(letter)\n",
    "            \n",
    "    return New_Corpus\n",
    "            \n",
    "        "
   ]
  },
  {
   "cell_type": "code",
   "execution_count": 22,
   "id": "956f7054",
   "metadata": {},
   "outputs": [
    {
     "ename": "SyntaxError",
     "evalue": "invalid syntax (1901307964.py, line 5)",
     "output_type": "error",
     "traceback": [
      "\u001b[0;36m  Input \u001b[0;32mIn [22]\u001b[0;36m\u001b[0m\n\u001b[0;31m    def get_Guess:\u001b[0m\n\u001b[0m                 ^\u001b[0m\n\u001b[0;31mSyntaxError\u001b[0m\u001b[0;31m:\u001b[0m invalid syntax\n"
     ]
    }
   ],
   "source": [
    "class Random_Model(word_corpus):\n",
    "    \n",
    "    while(len(word_corpus>=1) or \n",
    "\n",
    "class Freq_1_Model(word_corpus):\n",
    "    \n",
    "    CharDist=getCharDistribution(word_corpus)\n",
    "    \n",
    "    def_\n",
    "        \n",
    "        \n",
    "\n",
    "    "
   ]
  },
  {
   "cell_type": "code",
   "execution_count": 20,
   "id": "61a9efbf",
   "metadata": {},
   "outputs": [
    {
     "name": "stdout",
     "output_type": "stream",
     "text": [
      "['ABACK', 'ABASE', 'ABATE', 'ABBEY', 'ABYSS', 'ACUTE', 'ADOBE', 'AGAPE', 'AGATE', 'AGREE', 'AHEAD', 'ALBUM', 'ALIEN', 'ALLOW', 'ALOFT', 'ALONE', 'ALTAR', 'AMPLE', 'ANGRY', 'APHID', 'APRON', 'ARGUE', 'AROMA', 'ASIDE', 'ASKEW', 'ASSET', 'ATOLL', 'ATONE', 'AUDIT', 'AWAKE', 'AWFUL', 'BADGE', 'BADLY', 'BANAL', 'BASIC', 'BATON', 'BATTY', 'BAYOU', 'BEADY', 'BEING', 'BELCH', 'BELLY', 'BENCH', 'BERTH', 'BIOME', 'BLACK', 'BLAND', 'BLEED', 'BLOKE', 'BLOWN', 'BLUFF', 'BLURT', 'BLUSH', 'BOOBY', 'BOOST', 'BOOZY', 'BRAKE', 'BREAK', 'BRIAR', 'BRIBE', 'BRINE', 'BRING', 'BRINK', 'BUGGY', 'CACAO', 'CANNY', 'CARGO', 'CATER', 'CAULK', 'CHAMP', 'CHANT', 'CHEAT', 'CHEEK', 'CHEST', 'CHILL', 'CHOKE', 'CHUNK', 'CIGAR', 'CINCH', 'CIVIC', 'CLICK', 'CLING', 'CLOCK', 'CLOTH', 'CLUCK', 'COAST', 'COLON', 'COMET', 'COMMA', 'CONIC', 'CORNY', 'COULD', 'COYLY', 'CRAMP', 'CRANK', 'CRASS', 'CRATE', 'CRAZE', 'CRAZY', 'CREAK', 'CREPT', 'CRIMP', 'CROAK', 'CRUST', 'CYNIC', 'DEATH', 'DELTA', 'DELVE', 'DEPOT', 'DEPTH', 'DIGIT', 'DODGE', 'DONOR', 'DOWRY', 'DOZEN', 'DRAIN', 'DRINK', 'DROLL', 'DUCHY', 'DUTCH', 'DWARF', 'EGRET', 'ELDER', 'ELOPE', 'ENEMA', 'EPOCH', 'EPOXY', 'ERODE', 'ERROR', 'ESSAY', 'EVADE', 'EXULT', 'FARCE', 'FAVOR', 'FEIGN', 'FERRY', 'FEWER', 'FIELD', 'FINER', 'FIRST', 'FIXER', 'FJORD', 'FLAIR', 'FLESH', 'FLICK', 'FLING', 'FLOAT', 'FLOCK', 'FLOOD', 'FLOSS', 'FLUFF', 'FLUME', 'FOCAL', 'FOCUS', 'FORAY', 'FORGE', 'FORGO', 'FORTH', 'FOUND', 'FOYER', 'FRAME', 'FRESH', 'FRONT', 'FROTH', 'GAMER', 'GAMMA', 'GAUDY', 'GAWKY', 'GECKO', 'GIRTH', 'GLASS', 'GLEAN', 'GLOAT', 'GLOOM', 'GOLEM', 'GONER', 'GOOSE', 'GORGE', 'GOUGE', 'GRADE', 'GREAT', 'GREET', 'GRIME', 'GRIPE', 'GROIN', 'GROUP', 'GROWL', 'GRUEL', 'GUILD', 'HAIRY', 'HATCH', 'HEATH', 'HEIST', 'HELIX', 'HERON', 'HINGE', 'HOARD', 'HOMER', 'HUMOR', 'HUMPH', 'HUNKY', 'HUTCH', 'HYPER', 'INERT', 'INPUT', 'ISLET', 'IVORY', 'JAUNT', 'KARMA', 'KEBAB', 'KHAKI', 'KNOLL', 'LABEL', 'LABOR', 'LAPEL', 'LAPSE', 'LARVA', 'LIGHT', 'LILAC', 'LINEN', 'LIVER', 'LOOPY', 'LOSER', 'LOWLY', 'LUSTY', 'LYING', 'MADAM', 'MAJOR', 'MANOR', 'MARRY', 'MASSE', 'MAXIM', 'METAL', 'MIDGE', 'MIDST', 'MIMIC', 'MINCE', 'MODEL', 'MOIST', 'MONEY', 'MONTH', 'MOTOR', 'MOTTO', 'MOULT', 'MOUNT', 'MOURN', 'MOVIE', 'NASTY', 'NATAL', 'NAVAL', 'NIGHT', 'NYMPH', 'OFFAL', 'OLIVE', 'OTHER', 'OUGHT', 'OUTDO', 'OXIDE', 'PANEL', 'PANIC', 'PAPER', 'PARRY', 'PATTY', 'PAUSE', 'PEACH', 'PERCH', 'PERKY', 'PHASE', 'PICKY', 'PIETY', 'PILOT', 'PINTO', 'PITHY', 'PLANT', 'PLEAT', 'PLUCK', 'POINT', 'POUND', 'POWER', 'PRICK', 'PRIDE', 'PRIMO', 'PRINT', 'PROVE', 'PROXY', 'PULPY', 'PURGE', 'QUART', 'QUERY', 'QUIET', 'RADIO', 'REACT', 'REBUS', 'REBUT', 'RENEW', 'REPAY', 'RETCH', 'RETRO', 'RHINO', 'RHYME', 'ROBIN', 'ROBOT', 'ROGUE', 'ROOMY', 'ROUGE', 'ROUND', 'ROYAL', 'RUPEE', 'RUSTY', 'SALAD', 'SAUTE', 'SCARE', 'SCOUR', 'SCRAP', 'SEEDY', 'SERVE', 'SEVER', 'SHAKE', 'SHALL', 'SHAME', 'SHARD', 'SHAWL', 'SHINE', 'SHIRE', 'SHOWN', 'SHOWY', 'SHRUB', 'SHRUG', 'SIEGE', 'SISSY', 'SKILL', 'SLOSH', 'SLUMP', 'SLUNG', 'SMART', 'SMEAR', 'SMELT', 'SMITE', 'SNOUT', 'SOLAR', 'SOLVE', 'SONIC', 'SOWER', 'SPEND', 'SPICY', 'SPIKE', 'SPILL', 'SPRAY', 'SQUAD', 'STAFF', 'STAIR', 'STAND', 'START', 'STEAD', 'STEED', 'STINK', 'STOMP', 'STOOL', 'STORE', 'STORY', 'STOUT', 'STOVE', 'SUGAR', 'SURER', 'SWEET', 'SWILL', 'SWIRL', 'TACIT', 'TANGY', 'TAPIR', 'TEASE', 'THEIR', 'THORN', 'THOSE', 'THUMB', 'TIARA', 'TIGER', 'TILDE', 'TIPSY', 'TODAY', 'TOTEM', 'TRACE', 'TRAIN', 'TRAIT', 'TRASH', 'TRAWL', 'TRIAD', 'TRITE', 'TROLL', 'TROPE', 'TROVE', 'TRUSS', 'TRYST', 'TWANG', 'TWEED', 'TWICE', 'ULCER', 'ULTRA', 'UNFED', 'UNFIT', 'UNIFY', 'UNMET', 'UPSET', 'USHER', 'USING', 'VIRAL', 'VITAL', 'VIVID', 'VODKA', 'VOICE', 'VOUCH', 'WACKY', 'WATCH', 'WEARY', 'WEDGE', 'WHACK', 'WHELP', 'WINCE', 'WOOER', 'WORLD', 'WROTE', 'WRUNG', 'YEARN', 'YIELD', 'YOUTH', 'ZESTY']\n"
     ]
    }
   ],
   "source": [
    "Historical_File_Name = 'historical.txt'\n",
    "historicals_txt=open(Historical_File_Name,'r').readlines()[0]\n",
    "print(historicals_txt.split(\" \"))"
   ]
  },
  {
   "cell_type": "code",
   "execution_count": null,
   "id": "3d0a7ce4",
   "metadata": {},
   "outputs": [],
   "source": []
  },
  {
   "cell_type": "code",
   "execution_count": null,
   "id": "361ec396",
   "metadata": {},
   "outputs": [],
   "source": []
  }
 ],
 "metadata": {
  "kernelspec": {
   "display_name": "Python 3 (ipykernel)",
   "language": "python",
   "name": "python3"
  },
  "language_info": {
   "codemirror_mode": {
    "name": "ipython",
    "version": 3
   },
   "file_extension": ".py",
   "mimetype": "text/x-python",
   "name": "python",
   "nbconvert_exporter": "python",
   "pygments_lexer": "ipython3",
   "version": "3.10.6"
  }
 },
 "nbformat": 4,
 "nbformat_minor": 5
}
